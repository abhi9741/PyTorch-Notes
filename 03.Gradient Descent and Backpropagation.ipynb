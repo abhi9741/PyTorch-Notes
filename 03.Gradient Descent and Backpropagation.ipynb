{
 "cells": [
  {
   "cell_type": "code",
   "execution_count": 4,
   "metadata": {},
   "outputs": [],
   "source": [
    "#Prediction - Manually\n",
    "#Gradients Computation - Manually\n",
    "#Loss Comutation - Manually\n",
    "#Parameter Updates - Manually"
   ]
  },
  {
   "cell_type": "code",
   "execution_count": 8,
   "metadata": {},
   "outputs": [],
   "source": [
    "import numpy as np"
   ]
  },
  {
   "cell_type": "code",
   "execution_count": 11,
   "metadata": {},
   "outputs": [],
   "source": [
    "x = np.array([1,2,3,4],dtype=np.float32)\n",
    "y = np.array([2,4,6,8],dtype=np.float32) #f = 2*x is the function we need to model\n",
    "\n",
    "w = 0.0  #weights initialised to zero"
   ]
  },
  {
   "cell_type": "code",
   "execution_count": 96,
   "metadata": {},
   "outputs": [],
   "source": [
    "def forward(x):\n",
    "    return w*x\n",
    "\n",
    "def loss(y,y_):\n",
    "    return ((y_ - y)**2).mean()\n",
    "\n",
    "#Gradient\n",
    "#MSE = 1/N * (w*x - y)**2\n",
    "# d MSE/d w = (1/N)*2*(w*x - y)*x  #derivative\n",
    "\n",
    "def gradient(x,y,y_):\n",
    "    return np.dot(2*x,y_-y).mean()"
   ]
  },
  {
   "cell_type": "code",
   "execution_count": 97,
   "metadata": {},
   "outputs": [
    {
     "name": "stdout",
     "output_type": "stream",
     "text": [
      "prediction before training f(5):  9.998951458930968\n"
     ]
    }
   ],
   "source": [
    "print(\"prediction before training f(5): \",forward(5))"
   ]
  },
  {
   "cell_type": "code",
   "execution_count": 104,
   "metadata": {},
   "outputs": [
    {
     "name": "stdout",
     "output_type": "stream",
     "text": [
      "At Epoch 0, Loss=30.0, Gradient=-120.0, Weights=1.2\n",
      "At Epoch 1, Loss=4.799999237060547, Gradient=-48.0, Weights=1.68\n",
      "At Epoch 2, Loss=0.7680001854896545, Gradient=-19.200002670288086, Weights=1.87\n",
      "At Epoch 3, Loss=0.1228799968957901, Gradient=-7.679999828338623, Weights=1.95\n",
      "At Epoch 4, Loss=0.019660834223031998, Gradient=-3.072002649307251, Weights=1.98\n",
      "At Epoch 5, Loss=0.003145695198327303, Gradient=-1.2287936210632324, Weights=1.99\n",
      "At Epoch 6, Loss=0.000503324146848172, Gradient=-0.49152374267578125, Weights=2.0\n",
      "At Epoch 7, Loss=8.053186320466921e-05, Gradient=-0.1966094970703125, Weights=2.0\n",
      "At Epoch 8, Loss=1.2884394891443662e-05, Gradient=-0.07864165306091309, Weights=2.0\n",
      "At Epoch 9, Loss=2.0613531432900345e-06, Gradient=-0.03145551681518555, Weights=2.0\n"
     ]
    }
   ],
   "source": [
    "#Training\n",
    "alpha = 0.01 #learning rate\n",
    "n_iters = 10\n",
    "w = 0\n",
    "\n",
    "for epoch in range(n_iters):\n",
    "    #forward pass\n",
    "    y_ = forward(x)\n",
    "    l = loss(y,y_)\n",
    "    #backward pass\n",
    "    g = gradient(x,y,y_)\n",
    "    #update weights\n",
    "    w = w - alpha*g\n",
    "    #print(\"epoch: \",epoch,\" loss: \",l,\" Gradient: \",g,\" Weights: \",w)\n",
    "    print(f\"At Epoch {epoch}, Loss={l}, Gradient={g}, Weights={w:.3}\")"
   ]
  },
  {
   "cell_type": "code",
   "execution_count": 98,
   "metadata": {},
   "outputs": [
    {
     "name": "stdout",
     "output_type": "stream",
     "text": [
      "prediction after training f(5):  9.998951458930968\n"
     ]
    }
   ],
   "source": [
    "print(\"prediction after training f(5): \",forward(5))"
   ]
  },
  {
   "cell_type": "code",
   "execution_count": null,
   "metadata": {},
   "outputs": [],
   "source": []
  }
 ],
 "metadata": {
  "interpreter": {
   "hash": "d55778a3033b6a2514b9fd3a4f7598f5122295c8ca77ad3bd42cbb3f7282272d"
  },
  "kernelspec": {
   "display_name": "Python 3.8.8",
   "language": "python",
   "name": "python3"
  },
  "language_info": {
   "codemirror_mode": {
    "name": "ipython",
    "version": 3
   },
   "file_extension": ".py",
   "mimetype": "text/x-python",
   "name": "python",
   "nbconvert_exporter": "python",
   "pygments_lexer": "ipython3",
   "version": "3.8.8"
  },
  "orig_nbformat": 4
 },
 "nbformat": 4,
 "nbformat_minor": 2
}
