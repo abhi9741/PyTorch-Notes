{
 "cells": [
  {
   "cell_type": "code",
   "execution_count": 65,
   "metadata": {},
   "outputs": [],
   "source": [
    "#MNIST digit recognition, classification problem\n",
    "# Classifying image of hand written digits into numbers 0-9"
   ]
  },
  {
   "cell_type": "code",
   "execution_count": 66,
   "metadata": {},
   "outputs": [],
   "source": [
    "# Data Loader, Data Transforms, Batches\n",
    "# Design the model (input size, output size, hidden layers, forward)\n",
    "#       Multi layer neural network, hidden layer activation function, final layer activation function\n",
    "#       loss function, optimiser\n",
    "# Training Loop (batch training)\n",
    "#       Forward Pass\n",
    "#       Backward Pass\n",
    "#       Update weights\n",
    "# Model Evaluation\n",
    "#       Test Accuracy\n",
    "# Plots\n",
    "#       Accuracy history, Loss history"
   ]
  },
  {
   "cell_type": "markdown",
   "metadata": {},
   "source": [
    "#### Imports\n"
   ]
  },
  {
   "cell_type": "code",
   "execution_count": 67,
   "metadata": {},
   "outputs": [],
   "source": [
    "import torch\n",
    "import torchvision\n",
    "import torch.nn as nn\n",
    "import torchvision.transforms as transforms\n",
    "from torch.utils.data import DataLoader, Dataset\n",
    "\n",
    "import numpy as np\n",
    "import matplotlib.pyplot as plt"
   ]
  },
  {
   "cell_type": "markdown",
   "metadata": {},
   "source": [
    "#### Device configuration"
   ]
  },
  {
   "cell_type": "code",
   "execution_count": 68,
   "metadata": {},
   "outputs": [
    {
     "data": {
      "text/plain": [
       "True"
      ]
     },
     "execution_count": 68,
     "metadata": {},
     "output_type": "execute_result"
    }
   ],
   "source": [
    "torch.cuda.is_available()"
   ]
  },
  {
   "cell_type": "code",
   "execution_count": 69,
   "metadata": {},
   "outputs": [],
   "source": [
    "#device configuration\n",
    "device = torch.device(\"cuda\" if torch.cuda.is_available() else 'cpu')"
   ]
  },
  {
   "cell_type": "markdown",
   "metadata": {},
   "source": [
    "#### Hyperparameters"
   ]
  },
  {
   "cell_type": "code",
   "execution_count": 70,
   "metadata": {},
   "outputs": [],
   "source": [
    "#### Hyperparameters\n",
    "input_size = 784 #28 x 28 images\n",
    "hidden_size1 = 500\n",
    "hidden_size2 = 124\n",
    "num_classes = 10 #number of output classes\n",
    "num_epochs = 20\n",
    "batch_size = 100\n",
    "learning_rate = 0.001\n",
    "\n",
    "# The following model performed very poorly\n",
    "# #### Hyperparameters\n",
    "# input_size = 784 #28 x 28 images\n",
    "# hidden_size1 = 124\n",
    "# hidden_size2 = 64\n",
    "# num_classes = 10 #number of output classes\n",
    "# num_epochs = 20\n",
    "# batch_size = 100\n",
    "# learning_rate = 0.001"
   ]
  },
  {
   "cell_type": "markdown",
   "metadata": {},
   "source": [
    "#### Dataset"
   ]
  },
  {
   "cell_type": "code",
   "execution_count": 71,
   "metadata": {},
   "outputs": [],
   "source": [
    "train_dst = torchvision.datasets.MNIST(root='/data',train=True,transform=transforms.ToTensor(),download=True)\n",
    "test_dst = torchvision.datasets.MNIST(root='/data',train=False,transform=transforms.ToTensor())"
   ]
  },
  {
   "cell_type": "code",
   "execution_count": 72,
   "metadata": {},
   "outputs": [],
   "source": [
    "train_loader = DataLoader(dataset=train_dst,batch_size=batch_size,shuffle=True)\n",
    "test_loader = DataLoader(dataset=test_dst,batch_size=batch_size)"
   ]
  },
  {
   "cell_type": "markdown",
   "metadata": {},
   "source": [
    "##### Have a look at first batch of data"
   ]
  },
  {
   "cell_type": "code",
   "execution_count": 73,
   "metadata": {},
   "outputs": [],
   "source": [
    "dataiter = iter(train_loader)\n",
    "batch_data = dataiter.next()"
   ]
  },
  {
   "cell_type": "code",
   "execution_count": 74,
   "metadata": {},
   "outputs": [],
   "source": [
    "inputs,labels = batch_data"
   ]
  },
  {
   "cell_type": "code",
   "execution_count": 75,
   "metadata": {},
   "outputs": [
    {
     "data": {
      "text/plain": [
       "2"
      ]
     },
     "execution_count": 75,
     "metadata": {},
     "output_type": "execute_result"
    }
   ],
   "source": [
    "len(batch_data)"
   ]
  },
  {
   "cell_type": "code",
   "execution_count": 76,
   "metadata": {},
   "outputs": [
    {
     "data": {
      "text/plain": [
       "torch.Size([100, 1, 28, 28])"
      ]
     },
     "execution_count": 76,
     "metadata": {},
     "output_type": "execute_result"
    }
   ],
   "source": [
    "inputs.shape"
   ]
  },
  {
   "cell_type": "code",
   "execution_count": 77,
   "metadata": {},
   "outputs": [
    {
     "data": {
      "text/plain": [
       "torch.Size([100])"
      ]
     },
     "execution_count": 77,
     "metadata": {},
     "output_type": "execute_result"
    }
   ],
   "source": [
    "labels.shape"
   ]
  },
  {
   "cell_type": "markdown",
   "metadata": {},
   "source": [
    "###### Visualise Images"
   ]
  },
  {
   "cell_type": "code",
   "execution_count": 78,
   "metadata": {},
   "outputs": [
    {
     "data": {
      "image/png": "[encoded data removed]",
      "text/plain": [
       "<Figure size 432x288 with 6 Axes>"
      ]
     },
     "metadata": {
      "needs_background": "light"
     },
     "output_type": "display_data"
    }
   ],
   "source": [
    "for i in range(6):\n",
    "    plt.subplot(2,3,i+1)\n",
    "    plt.imshow(inputs[i][0],cmap='gray') #accessing the first channel\n",
    "plt.show()"
   ]
  },
  {
   "cell_type": "code",
   "execution_count": 79,
   "metadata": {},
   "outputs": [],
   "source": [
    "class MNIST_data(Dataset):\n",
    "    def __init__(self):\n",
    "        #\n",
    "\n",
    "        mnist_dst = torchvision.datasets.MNIST(root='/data',train=true)\n",
    "    def __get_item__(self,index):\n",
    "        #\n",
    "        8\n",
    "    def __len__(self):\n",
    "        #\n",
    "        8"
   ]
  },
  {
   "cell_type": "markdown",
   "metadata": {},
   "source": [
    "#### Design the Model"
   ]
  },
  {
   "cell_type": "markdown",
   "metadata": {},
   "source": [
    "##### Neural Network Class"
   ]
  },
  {
   "cell_type": "code",
   "execution_count": 80,
   "metadata": {},
   "outputs": [],
   "source": [
    "class NeuralNet_HW(nn.Module):\n",
    "    def __init__(self,input_features,hidden_size1,hidden_size2,output_features):\n",
    "        super(NeuralNet_HW,self).__init__()\n",
    "        self.lin1 = nn.Linear(input_features,hidden_size1)\n",
    "        self.relu = nn.ReLU()\n",
    "        self.lin2 = nn.Linear(hidden_size1,hidden_size2)\n",
    "        self.lin3 = nn.Linear(hidden_size2,output_features) \n",
    "        self.softmax = nn.Softmax() #remove this if we are using cross entropy loss\n",
    "    def forward(self,x):\n",
    "        out = self.lin1(x)\n",
    "        out = self.relu(out)\n",
    "        out = self.lin2(out)\n",
    "        out = self.relu(out)\n",
    "        out = self.lin3(out)\n",
    "        return out\n",
    "        #out = self.softmax(out) we dont apply this, as we are using cross entropy loss, it applies softmax for as"
   ]
  },
  {
   "cell_type": "code",
   "execution_count": 81,
   "metadata": {},
   "outputs": [],
   "source": [
    "model = NeuralNet_HW(input_size,hidden_size1,hidden_size2,num_classes).to(device)"
   ]
  },
  {
   "cell_type": "code",
   "execution_count": 82,
   "metadata": {},
   "outputs": [],
   "source": [
    " # model.summary()  check this out later"
   ]
  },
  {
   "cell_type": "code",
   "execution_count": 83,
   "metadata": {},
   "outputs": [
    {
     "data": {
      "text/plain": [
       "NeuralNet_HW(\n",
       "  (lin1): Linear(in_features=784, out_features=500, bias=True)\n",
       "  (relu): ReLU()\n",
       "  (lin2): Linear(in_features=500, out_features=124, bias=True)\n",
       "  (lin3): Linear(in_features=124, out_features=10, bias=True)\n",
       "  (softmax): Softmax(dim=None)\n",
       ")"
      ]
     },
     "execution_count": 83,
     "metadata": {},
     "output_type": "execute_result"
    }
   ],
   "source": [
    "model"
   ]
  },
  {
   "cell_type": "markdown",
   "metadata": {},
   "source": [
    "##### Loss Function and Optimiser"
   ]
  },
  {
   "cell_type": "code",
   "execution_count": 84,
   "metadata": {},
   "outputs": [],
   "source": [
    "loss_func = nn.CrossEntropyLoss()\n",
    "optimiser = torch.optim.Adam(model.parameters(),lr=learning_rate)"
   ]
  },
  {
   "cell_type": "code",
   "execution_count": null,
   "metadata": {},
   "outputs": [],
   "source": []
  },
  {
   "cell_type": "markdown",
   "metadata": {},
   "source": [
    "#### Training Loop"
   ]
  },
  {
   "cell_type": "code",
   "execution_count": 85,
   "metadata": {},
   "outputs": [
    {
     "name": "stdout",
     "output_type": "stream",
     "text": [
      "epoch 1 / 20, step 200 / 600, loss = 0.1657\n",
      "epoch 1 / 20, step 400 / 600, loss = 0.2221\n",
      "epoch 1 / 20, step 600 / 600, loss = 0.0582\n",
      "epoch 2 / 20, step 200 / 600, loss = 0.1392\n",
      "epoch 2 / 20, step 400 / 600, loss = 0.1473\n",
      "epoch 2 / 20, step 600 / 600, loss = 0.0286\n",
      "epoch 3 / 20, step 200 / 600, loss = 0.0664\n",
      "epoch 3 / 20, step 400 / 600, loss = 0.0846\n",
      "epoch 3 / 20, step 600 / 600, loss = 0.0485\n",
      "epoch 4 / 20, step 200 / 600, loss = 0.0093\n",
      "epoch 4 / 20, step 400 / 600, loss = 0.0427\n",
      "epoch 4 / 20, step 600 / 600, loss = 0.0347\n",
      "epoch 5 / 20, step 200 / 600, loss = 0.0221\n",
      "epoch 5 / 20, step 400 / 600, loss = 0.0053\n",
      "epoch 5 / 20, step 600 / 600, loss = 0.0184\n",
      "epoch 6 / 20, step 200 / 600, loss = 0.0684\n",
      "epoch 6 / 20, step 400 / 600, loss = 0.0675\n",
      "epoch 6 / 20, step 600 / 600, loss = 0.0211\n",
      "epoch 7 / 20, step 200 / 600, loss = 0.0387\n",
      "epoch 7 / 20, step 400 / 600, loss = 0.0297\n",
      "epoch 7 / 20, step 600 / 600, loss = 0.0257\n",
      "epoch 8 / 20, step 200 / 600, loss = 0.0242\n",
      "epoch 8 / 20, step 400 / 600, loss = 0.0026\n",
      "epoch 8 / 20, step 600 / 600, loss = 0.0035\n",
      "epoch 9 / 20, step 200 / 600, loss = 0.0201\n",
      "epoch 9 / 20, step 400 / 600, loss = 0.0202\n",
      "epoch 9 / 20, step 600 / 600, loss = 0.0254\n",
      "epoch 10 / 20, step 200 / 600, loss = 0.0054\n",
      "epoch 10 / 20, step 400 / 600, loss = 0.0808\n",
      "epoch 10 / 20, step 600 / 600, loss = 0.0662\n",
      "epoch 11 / 20, step 200 / 600, loss = 0.0032\n",
      "epoch 11 / 20, step 400 / 600, loss = 0.0021\n",
      "epoch 11 / 20, step 600 / 600, loss = 0.0003\n",
      "epoch 12 / 20, step 200 / 600, loss = 0.0016\n",
      "epoch 12 / 20, step 400 / 600, loss = 0.0012\n",
      "epoch 12 / 20, step 600 / 600, loss = 0.0143\n",
      "epoch 13 / 20, step 200 / 600, loss = 0.0427\n",
      "epoch 13 / 20, step 400 / 600, loss = 0.0005\n",
      "epoch 13 / 20, step 600 / 600, loss = 0.0419\n",
      "epoch 14 / 20, step 200 / 600, loss = 0.0004\n",
      "epoch 14 / 20, step 400 / 600, loss = 0.0059\n",
      "epoch 14 / 20, step 600 / 600, loss = 0.0509\n",
      "epoch 15 / 20, step 200 / 600, loss = 0.0197\n",
      "epoch 15 / 20, step 400 / 600, loss = 0.0013\n",
      "epoch 15 / 20, step 600 / 600, loss = 0.0025\n",
      "epoch 16 / 20, step 200 / 600, loss = 0.0034\n",
      "epoch 16 / 20, step 400 / 600, loss = 0.0019\n",
      "epoch 16 / 20, step 600 / 600, loss = 0.0049\n",
      "epoch 17 / 20, step 200 / 600, loss = 0.0002\n",
      "epoch 17 / 20, step 400 / 600, loss = 0.0004\n",
      "epoch 17 / 20, step 600 / 600, loss = 0.0001\n",
      "epoch 18 / 20, step 200 / 600, loss = 0.0016\n",
      "epoch 18 / 20, step 400 / 600, loss = 0.0017\n",
      "epoch 18 / 20, step 600 / 600, loss = 0.0002\n",
      "epoch 19 / 20, step 200 / 600, loss = 0.0017\n",
      "epoch 19 / 20, step 400 / 600, loss = 0.0006\n",
      "epoch 19 / 20, step 600 / 600, loss = 0.0004\n",
      "epoch 20 / 20, step 200 / 600, loss = 0.0001\n",
      "epoch 20 / 20, step 400 / 600, loss = 0.0041\n",
      "epoch 20 / 20, step 600 / 600, loss = 0.0000\n"
     ]
    }
   ],
   "source": [
    "num_steps_per_epoch = len(train_loader)\n",
    "\n",
    "for epoch in range(num_epochs) : #looping over epochs\n",
    "    for i,(inputs,labels) in enumerate(train_loader): #looping over batches\n",
    "\n",
    "        #Flatten the images\n",
    "\n",
    "        #inputs have shape 100,1,28,28, we need to change this to 100,784 \n",
    "        inputs = inputs.view(-1,28*28).to(device) #copy the to gpu, as we do training on the gpu \n",
    "        labels = labels.to(device)\n",
    "\n",
    "        #forward pass\n",
    "        y_preds = model(inputs)\n",
    "        # print(y_preds.shape), should be n_samples x n_classes\n",
    "        loss = loss_func(y_preds,labels)\n",
    "\n",
    "        #backward pass\n",
    "        optimiser.zero_grad()\n",
    "        loss.backward()\n",
    "\n",
    "        #weight updation\n",
    "        optimiser.step()\n",
    "\n",
    "        if (i+1)%200 == 0:\n",
    "            print(f\"epoch {epoch+1} / {num_epochs}, step {i+1} / {num_steps_per_epoch}, loss = {loss.item():.4f}\")\n",
    "        \n",
    "        "
   ]
  },
  {
   "cell_type": "markdown",
   "metadata": {},
   "source": [
    "#### Model Evaluation"
   ]
  },
  {
   "cell_type": "markdown",
   "metadata": {},
   "source": [
    "##### Test Accuracy"
   ]
  },
  {
   "cell_type": "code",
   "execution_count": 86,
   "metadata": {},
   "outputs": [
    {
     "name": "stdout",
     "output_type": "stream",
     "text": [
      "Test accuracy of the model = 98.10%\n"
     ]
    }
   ],
   "source": [
    "with torch.no_grad():\n",
    "    correct_pred = 0\n",
    "    n_samples = 0\n",
    "    for i,(inputs,labels) in enumerate(test_loader):\n",
    "        inputs = inputs.view(-1,28*28).to(device) #copy to gpu\n",
    "        labels = labels.to(device)\n",
    "\n",
    "        outputs = model(inputs)\n",
    "\n",
    "        _,preds = torch.max(outputs,1) #returns value snad index, inndex is the class label\n",
    "\n",
    "        n_samples += inputs.shape[0]\n",
    "        correct_pred += torch.eq(labels,preds).sum().item()\n",
    "        \n",
    "    accuracy = (100.0*correct_pred)/n_samples\n",
    "    print(f\"Test accuracy of the model = {accuracy:.2f}%\")"
   ]
  },
  {
   "cell_type": "code",
   "execution_count": 87,
   "metadata": {},
   "outputs": [
    {
     "name": "stdout",
     "output_type": "stream",
     "text": [
      "Test accuracy of the model = 99.81%\n"
     ]
    }
   ],
   "source": [
    "with torch.no_grad():\n",
    "    correct_pred = 0\n",
    "    n_samples = 0\n",
    "    for i,(inputs,labels) in enumerate(train_loader):\n",
    "        inputs = inputs.view(-1,28*28).to(device) #copy to gpu\n",
    "        labels = labels.to(device)\n",
    "\n",
    "        outputs = model(inputs)\n",
    "\n",
    "        _,preds = torch.max(outputs,1) #returns value snad index, inndex is the class label\n",
    "\n",
    "        n_samples += inputs.shape[0]\n",
    "        correct_pred += torch.eq(labels,preds).sum().item()\n",
    "        \n",
    "    accuracy = (100.0*correct_pred)/n_samples\n",
    "    print(f\"Test accuracy of the model = {accuracy:.2f}%\")"
   ]
  }
 ],
 "metadata": {
  "kernelspec": {
   "display_name": "Python 3.8.13",
   "language": "python",
   "name": "python3"
  },
  "language_info": {
   "codemirror_mode": {
    "name": "ipython",
    "version": 3
   },
   "file_extension": ".py",
   "mimetype": "text/x-python",
   "name": "python",
   "nbconvert_exporter": "python",
   "pygments_lexer": "ipython3",
   "version": "3.8.13"
  },
  "orig_nbformat": 4,
  "vscode": {
   "interpreter": {
    "hash": "83bec4cd18966703d39e3fd8209371b7574445e5ac2dfe27a80cb33e9b531167"
   }
  }
 },
 "nbformat": 4,
 "nbformat_minor": 2
}
