{
 "cells": [
  {
   "cell_type": "code",
   "execution_count": 16,
   "metadata": {},
   "outputs": [],
   "source": [
    "import torch\n",
    "import torchvision #what does this do?\n",
    "from torch.utils.data import Dataset, DataLoader\n",
    "import torch.nn as nn\n",
    "import numpy as np\n",
    "import math"
   ]
  },
  {
   "cell_type": "code",
   "execution_count": 17,
   "metadata": {},
   "outputs": [],
   "source": [
    "#check the complete list of transforms, see how to compose multiple transforms"
   ]
  },
  {
   "cell_type": "code",
   "execution_count": 22,
   "metadata": {},
   "outputs": [],
   "source": [
    "# Dataset and Dataloader\n",
    "class WineDataset(Dataset):\n",
    "    def __init__(self,transforms=None):\n",
    "        # data loading\n",
    "        xy = np.loadtxt(\"9.Wine.csv\",delimiter=',',dtype=np.float32,skiprows=1) #skipping the header\n",
    "        self.x = xy[:, 1:] #first column is thr wine class category\n",
    "        self.y = xy[:, [0]]  #makes it n_samples x 1, column vector\n",
    "\n",
    "        self.n_samples, self.n_features = xy.shape \n",
    "        self.transform = transforms\n",
    "\n",
    "    def __getitem__(self,index):\n",
    "        #dataset[0] - helps in indexing data samples\n",
    "        sample =  self.x[index], self.y[index] #return tensors\n",
    "        if self.transform :\n",
    "            sample = self.transform(sample)\n",
    "        return sample\n",
    "\n",
    "    def __len__(self):\n",
    "        #len(dataset)\n",
    "        return self.n_samples\n",
    "\n"
   ]
  },
  {
   "cell_type": "code",
   "execution_count": 29,
   "metadata": {},
   "outputs": [],
   "source": [
    "#custom transform class, dummy example\n",
    "class ToTensor():\n",
    "    def __call__(self,sample): #callable object??\n",
    "        inputs, labels = sample\n",
    "        return torch.from_numpy(inputs.astype(np.float32)), torch.from_numpy(labels.astype(np.float32))"
   ]
  },
  {
   "cell_type": "code",
   "execution_count": 30,
   "metadata": {},
   "outputs": [],
   "source": [
    "wsd = WineDataset(transforms=ToTensor())"
   ]
  },
  {
   "cell_type": "code",
   "execution_count": 31,
   "metadata": {},
   "outputs": [
    {
     "name": "stdout",
     "output_type": "stream",
     "text": [
      "features :\n",
      "tensor([1.4230e+01, 1.7100e+00, 2.4300e+00, 1.5600e+01, 1.2700e+02, 2.8000e+00,\n",
      "        3.0600e+00, 2.8000e-01, 2.2900e+00, 5.6400e+00, 1.0400e+00, 3.9200e+00,\n",
      "        1.0650e+03])\n",
      "<class 'torch.Tensor'>\n",
      "labels :\n",
      "tensor([1.])\n",
      "<class 'torch.Tensor'>\n"
     ]
    }
   ],
   "source": [
    "data = wsd[0]\n",
    "features,labels = data\n",
    "print(\"features :\")\n",
    "print(features)\n",
    "print(type(features))\n",
    "print(\"labels :\")\n",
    "print(labels)\n",
    "print(type(labels))"
   ]
  },
  {
   "cell_type": "code",
   "execution_count": 42,
   "metadata": {},
   "outputs": [
    {
     "name": "stdout",
     "output_type": "stream",
     "text": [
      "features :\n",
      "[1.423e+01 1.710e+00 2.430e+00 1.560e+01 1.270e+02 2.800e+00 3.060e+00\n",
      " 2.800e-01 2.290e+00 5.640e+00 1.040e+00 3.920e+00 1.065e+03]\n",
      "<class 'numpy.ndarray'>\n",
      "labels :\n",
      "[1.]\n",
      "<class 'numpy.ndarray'>\n"
     ]
    }
   ],
   "source": [
    "wsd = WineDataset()\n",
    "\n",
    "data = wsd[0]\n",
    "features,labels = data\n",
    "print(\"features :\")\n",
    "print(features)\n",
    "print(type(features))\n",
    "print(\"labels :\")\n",
    "print(labels)\n",
    "print(type(labels))"
   ]
  },
  {
   "cell_type": "code",
   "execution_count": 43,
   "metadata": {},
   "outputs": [
    {
     "name": "stdout",
     "output_type": "stream",
     "text": [
      "features :\n",
      "tensor([[1.1840e+01, 8.9000e-01, 2.5800e+00, 1.8000e+01, 9.4000e+01, 2.2000e+00,\n",
      "         2.2100e+00, 2.2000e-01, 2.3500e+00, 3.0500e+00, 7.9000e-01, 3.0800e+00,\n",
      "         5.2000e+02],\n",
      "        [1.3830e+01, 1.6500e+00, 2.6000e+00, 1.7200e+01, 9.4000e+01, 2.4500e+00,\n",
      "         2.9900e+00, 2.2000e-01, 2.2900e+00, 5.6000e+00, 1.2400e+00, 3.3700e+00,\n",
      "         1.2650e+03],\n",
      "        [1.4200e+01, 1.7600e+00, 2.4500e+00, 1.5200e+01, 1.1200e+02, 3.2700e+00,\n",
      "         3.3900e+00, 3.4000e-01, 1.9700e+00, 6.7500e+00, 1.0500e+00, 2.8500e+00,\n",
      "         1.4500e+03],\n",
      "        [1.2670e+01, 9.8000e-01, 2.2400e+00, 1.8000e+01, 9.9000e+01, 2.2000e+00,\n",
      "         1.9400e+00, 3.0000e-01, 1.4600e+00, 2.6200e+00, 1.2300e+00, 3.1600e+00,\n",
      "         4.5000e+02]])\n",
      "<class 'torch.Tensor'>\n",
      "labels :\n",
      "tensor([[2.],\n",
      "        [1.],\n",
      "        [1.],\n",
      "        [2.]])\n",
      "<class 'torch.Tensor'>\n"
     ]
    }
   ],
   "source": [
    "wsd = WineDataset(transforms=ToTensor())\n",
    "dataloader = DataLoader(wsd,batch_size=4,shuffle=True,num_workers=0)\n",
    "\n",
    "dataiter = iter(dataloader)\n",
    "data = dataiter.next()\n",
    "features,labels = data\n",
    "print(\"features :\")\n",
    "print(features)\n",
    "print(type(features))\n",
    "print(\"labels :\")\n",
    "print(labels)\n",
    "print(type(labels))\n",
    "\n",
    "#we can see that all batches retrived are tensors, i.e, transforms have been applied on them"
   ]
  },
  {
   "cell_type": "code",
   "execution_count": 44,
   "metadata": {},
   "outputs": [],
   "source": [
    "class Multransform():\n",
    "    def __init__(self,factor):\n",
    "        self.factor = factor\n",
    "    def __call__(self,sample):\n",
    "        inputs, labels = sample\n",
    "        inputs *= self.factor #we are transforming only the inputs\n",
    "        return inputs,labels "
   ]
  },
  {
   "cell_type": "code",
   "execution_count": 48,
   "metadata": {},
   "outputs": [],
   "source": [
    "compose_trsf = torchvision.transforms.Compose([ToTensor(),Multransform(4)])"
   ]
  },
  {
   "cell_type": "code",
   "execution_count": 49,
   "metadata": {},
   "outputs": [],
   "source": [
    "wsd = WineDataset(transforms=compose_trsf)"
   ]
  },
  {
   "cell_type": "code",
   "execution_count": 50,
   "metadata": {},
   "outputs": [
    {
     "name": "stdout",
     "output_type": "stream",
     "text": [
      "features :\n",
      "tensor([[5.4480e+01, 1.9800e+01, 9.4000e+00, 8.0000e+01, 3.6800e+02, 8.0000e+00,\n",
      "         3.2000e+00, 1.8800e+00, 4.0800e+00, 1.7600e+01, 3.6400e+00, 8.2000e+00,\n",
      "         2.2000e+03],\n",
      "        [5.2920e+01, 1.3200e+01, 9.1200e+00, 7.4000e+01, 3.9200e+02, 7.2000e+00,\n",
      "         3.3200e+00, 2.4400e+00, 7.4800e+00, 4.2080e+01, 2.2400e+00, 6.0400e+00,\n",
      "         2.7000e+03],\n",
      "        [5.1400e+01, 6.4000e+00, 1.0080e+01, 7.1200e+01, 3.8000e+02, 9.9200e+00,\n",
      "         9.4800e+00, 1.0400e+00, 5.8400e+00, 1.5720e+01, 4.3600e+00, 1.4520e+01,\n",
      "         4.0600e+03],\n",
      "        [4.9720e+01, 6.1200e+00, 9.1600e+00, 8.6000e+01, 3.4400e+02, 1.0960e+01,\n",
      "         1.2600e+01, 1.5600e+00, 7.0800e+00, 1.5760e+01, 2.7600e+00, 1.1360e+01,\n",
      "         1.4080e+03]])\n",
      "<class 'torch.Tensor'>\n",
      "labels :\n",
      "tensor([[3.],\n",
      "        [3.],\n",
      "        [1.],\n",
      "        [2.]])\n",
      "<class 'torch.Tensor'>\n"
     ]
    }
   ],
   "source": [
    "dataloader = DataLoader(wsd,batch_size=4,shuffle=True,num_workers=0)\n",
    "\n",
    "dataiter = iter(dataloader)\n",
    "data = dataiter.next()\n",
    "features,labels = data\n",
    "print(\"features :\")\n",
    "print(features)\n",
    "print(type(features))\n",
    "print(\"labels :\")\n",
    "print(labels)\n",
    "print(type(labels))\n"
   ]
  },
  {
   "cell_type": "code",
   "execution_count": null,
   "metadata": {},
   "outputs": [],
   "source": []
  }
 ],
 "metadata": {
  "kernelspec": {
   "display_name": "Python 3.8.13",
   "language": "python",
   "name": "python3"
  },
  "language_info": {
   "codemirror_mode": {
    "name": "ipython",
    "version": 3
   },
   "file_extension": ".py",
   "mimetype": "text/x-python",
   "name": "python",
   "nbconvert_exporter": "python",
   "pygments_lexer": "ipython3",
   "version": "3.8.13"
  },
  "orig_nbformat": 4,
  "vscode": {
   "interpreter": {
    "hash": "83bec4cd18966703d39e3fd8209371b7574445e5ac2dfe27a80cb33e9b531167"
   }
  }
 },
 "nbformat": 4,
 "nbformat_minor": 2
}
