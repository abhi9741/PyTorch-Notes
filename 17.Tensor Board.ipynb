{
 "cells": [
  {
   "cell_type": "code",
   "execution_count": 1,
   "metadata": {},
   "outputs": [],
   "source": [
    "#MNIST digit recognition, classification problem\n",
    "# Classifying image of hand written digits into numbers 0-9"
   ]
  },
  {
   "cell_type": "code",
   "execution_count": 2,
   "metadata": {},
   "outputs": [],
   "source": [
    "# Data Loader, Data Transforms, Batches\n",
    "# Design the model (input size, output size, hidden layers, forward)\n",
    "#       Multi layer neural network, hidden layer activation function, final layer activation function\n",
    "#       loss function, optimiser\n",
    "# Training Loop (batch training)\n",
    "#       Forward Pass\n",
    "#       Backward Pass\n",
    "#       Update weights\n",
    "# Model Evaluation\n",
    "#       Test Accuracy\n",
    "# Plots\n",
    "#       Accuracy history, Loss history"
   ]
  },
  {
   "cell_type": "markdown",
   "metadata": {},
   "source": [
    "#### Imports\n"
   ]
  },
  {
   "cell_type": "code",
   "execution_count": 3,
   "metadata": {},
   "outputs": [],
   "source": [
    "from torch.utils.tensorboard import SummaryWriter"
   ]
  },
  {
   "cell_type": "code",
   "execution_count": 4,
   "metadata": {},
   "outputs": [],
   "source": [
    "writer = SummaryWriter(\"runs/mnist\")"
   ]
  },
  {
   "cell_type": "code",
   "execution_count": 5,
   "metadata": {},
   "outputs": [],
   "source": [
    "import torch\n",
    "import torchvision\n",
    "import torch.nn as nn\n",
    "import torchvision.transforms as transforms\n",
    "from torch.utils.data import DataLoader, Dataset\n",
    "\n",
    "import numpy as np\n",
    "import matplotlib.pyplot as plt\n",
    "import sys"
   ]
  },
  {
   "cell_type": "markdown",
   "metadata": {},
   "source": [
    "#### Device configuration"
   ]
  },
  {
   "cell_type": "code",
   "execution_count": 6,
   "metadata": {},
   "outputs": [
    {
     "data": {
      "text/plain": [
       "True"
      ]
     },
     "execution_count": 6,
     "metadata": {},
     "output_type": "execute_result"
    }
   ],
   "source": [
    "torch.cuda.is_available()"
   ]
  },
  {
   "cell_type": "code",
   "execution_count": 7,
   "metadata": {},
   "outputs": [],
   "source": [
    "#device configuration\n",
    "device = torch.device(\"cuda\" if torch.cuda.is_available() else 'cpu')"
   ]
  },
  {
   "cell_type": "markdown",
   "metadata": {},
   "source": [
    "#### Hyperparameters"
   ]
  },
  {
   "cell_type": "code",
   "execution_count": 8,
   "metadata": {},
   "outputs": [],
   "source": [
    "#### Hyperparameters\n",
    "input_size = 784 #28 x 28 images\n",
    "hidden_size1 = 500\n",
    "hidden_size2 = 124\n",
    "hidden_size3 = 64\n",
    "num_classes = 10 #number of output classes\n",
    "num_epochs = 20\n",
    "batch_size = 100\n",
    "learning_rate = 0.001\n",
    "\n",
    "# The following model performed very poorly\n",
    "# #### Hyperparameters\n",
    "# input_size = 784 #28 x 28 images\n",
    "# hidden_size1 = 124\n",
    "# hidden_size2 = 64\n",
    "# num_classes = 10 #number of output classes\n",
    "# num_epochs = 20\n",
    "# batch_size = 100\n",
    "# learning_rate = 0.001"
   ]
  },
  {
   "cell_type": "markdown",
   "metadata": {},
   "source": [
    "#### Dataset"
   ]
  },
  {
   "cell_type": "code",
   "execution_count": 9,
   "metadata": {},
   "outputs": [],
   "source": [
    "train_dst = torchvision.datasets.MNIST(root='/data',train=True,transform=transforms.ToTensor(),download=True)\n",
    "test_dst = torchvision.datasets.MNIST(root='/data',train=False,transform=transforms.ToTensor())"
   ]
  },
  {
   "cell_type": "code",
   "execution_count": 10,
   "metadata": {},
   "outputs": [
    {
     "data": {
      "text/plain": [
       "10000"
      ]
     },
     "execution_count": 10,
     "metadata": {},
     "output_type": "execute_result"
    }
   ],
   "source": [
    "len(test_dst)"
   ]
  },
  {
   "cell_type": "code",
   "execution_count": 11,
   "metadata": {},
   "outputs": [],
   "source": [
    "train_loader = DataLoader(dataset=train_dst,batch_size=batch_size,shuffle=True)\n",
    "test_loader = DataLoader(dataset=test_dst,batch_size=batch_size)"
   ]
  },
  {
   "cell_type": "code",
   "execution_count": 12,
   "metadata": {},
   "outputs": [
    {
     "data": {
      "text/plain": [
       "600"
      ]
     },
     "execution_count": 12,
     "metadata": {},
     "output_type": "execute_result"
    }
   ],
   "source": [
    "len(train_loader)"
   ]
  },
  {
   "cell_type": "markdown",
   "metadata": {},
   "source": [
    "##### Have a look at first batch of data"
   ]
  },
  {
   "cell_type": "code",
   "execution_count": 13,
   "metadata": {},
   "outputs": [],
   "source": [
    "dataiter = iter(train_loader)\n",
    "batch_data = dataiter.next()"
   ]
  },
  {
   "cell_type": "code",
   "execution_count": 14,
   "metadata": {},
   "outputs": [],
   "source": [
    "inputs,labels = batch_data"
   ]
  },
  {
   "cell_type": "code",
   "execution_count": 15,
   "metadata": {},
   "outputs": [
    {
     "data": {
      "text/plain": [
       "2"
      ]
     },
     "execution_count": 15,
     "metadata": {},
     "output_type": "execute_result"
    }
   ],
   "source": [
    "len(batch_data)"
   ]
  },
  {
   "cell_type": "code",
   "execution_count": 16,
   "metadata": {},
   "outputs": [
    {
     "data": {
      "text/plain": [
       "torch.Size([100, 1, 28, 28])"
      ]
     },
     "execution_count": 16,
     "metadata": {},
     "output_type": "execute_result"
    }
   ],
   "source": [
    "inputs.shape"
   ]
  },
  {
   "cell_type": "code",
   "execution_count": 17,
   "metadata": {},
   "outputs": [
    {
     "data": {
      "text/plain": [
       "torch.Size([100])"
      ]
     },
     "execution_count": 17,
     "metadata": {},
     "output_type": "execute_result"
    }
   ],
   "source": [
    "labels.shape"
   ]
  },
  {
   "cell_type": "markdown",
   "metadata": {},
   "source": [
    "###### Visualise Images"
   ]
  },
  {
   "cell_type": "code",
   "execution_count": 18,
   "metadata": {},
   "outputs": [],
   "source": [
    "# for i in range(6):\n",
    "#     plt.subplot(2,3,i+1)\n",
    "#     plt.imshow(inputs[i][0],cmap='gray') #accessing the first channel\n",
    "#plt.show()\n",
    "#instead of plotting, we write images to tensor board\n",
    "img_grid = torchvision.utils.make_grid(inputs)\n",
    "writer.add_image('mnist_images',img_grid)\n",
    "writer.close() #flushing the outputs\n"
   ]
  },
  {
   "cell_type": "markdown",
   "metadata": {},
   "source": [
    "#### Design the Model"
   ]
  },
  {
   "cell_type": "markdown",
   "metadata": {},
   "source": [
    "##### Neural Network Class"
   ]
  },
  {
   "cell_type": "code",
   "execution_count": null,
   "metadata": {},
   "outputs": [],
   "source": []
  },
  {
   "cell_type": "code",
   "execution_count": 19,
   "metadata": {},
   "outputs": [],
   "source": [
    "class NeuralNet_HW(nn.Module):\n",
    "    def __init__(self,input_features,hidden_size1,hidden_size2,hidden_size3,output_features):\n",
    "        super(NeuralNet_HW,self).__init__()\n",
    "        self.lin1 = nn.Linear(input_features,hidden_size1)\n",
    "        self.relu = nn.ReLU()\n",
    "        self.lin2 = nn.Linear(hidden_size1,hidden_size2)\n",
    "        self.lin3 = nn.Linear(hidden_size2,hidden_size3)\n",
    "        self.lin4 = nn.Linear(hidden_size3,output_features) \n",
    "        self.softmax = nn.Softmax() #remove this if we are using cross entropy loss\n",
    "    def forward(self,x):\n",
    "        out = self.lin1(x)\n",
    "        out = self.relu(out)\n",
    "        out = self.lin2(out)\n",
    "        out = self.relu(out)\n",
    "        out = self.lin3(out)\n",
    "        out = self.relu(out)\n",
    "        out = self.lin4(out)\n",
    "        return out\n",
    "        #out = self.softmax(out) we dont apply this, as we are using cross entropy loss, it applies softmax for as"
   ]
  },
  {
   "cell_type": "code",
   "execution_count": 20,
   "metadata": {},
   "outputs": [],
   "source": [
    "model = NeuralNet_HW(input_size,hidden_size1,hidden_size2,hidden_size3,num_classes).to(device)"
   ]
  },
  {
   "cell_type": "code",
   "execution_count": 21,
   "metadata": {},
   "outputs": [],
   "source": [
    " # model.summary()  check this out later"
   ]
  },
  {
   "cell_type": "code",
   "execution_count": 22,
   "metadata": {},
   "outputs": [
    {
     "data": {
      "text/plain": [
       "NeuralNet_HW(\n",
       "  (lin1): Linear(in_features=784, out_features=500, bias=True)\n",
       "  (relu): ReLU()\n",
       "  (lin2): Linear(in_features=500, out_features=124, bias=True)\n",
       "  (lin3): Linear(in_features=124, out_features=64, bias=True)\n",
       "  (lin4): Linear(in_features=64, out_features=10, bias=True)\n",
       "  (softmax): Softmax(dim=None)\n",
       ")"
      ]
     },
     "execution_count": 22,
     "metadata": {},
     "output_type": "execute_result"
    }
   ],
   "source": [
    "model"
   ]
  },
  {
   "cell_type": "markdown",
   "metadata": {},
   "source": [
    "##### Loss Function and Optimiser"
   ]
  },
  {
   "cell_type": "code",
   "execution_count": 23,
   "metadata": {},
   "outputs": [],
   "source": [
    "loss_func = nn.CrossEntropyLoss()\n",
    "optimiser = torch.optim.Adam(model.parameters(),lr=learning_rate)"
   ]
  },
  {
   "cell_type": "code",
   "execution_count": 24,
   "metadata": {},
   "outputs": [],
   "source": [
    "writer.add_graph(model,inputs.view(-1,28*28).to(device)) #send one batch of data to the model\n",
    "writer.close()\n"
   ]
  },
  {
   "cell_type": "markdown",
   "metadata": {},
   "source": [
    "#### Training Loop"
   ]
  },
  {
   "cell_type": "code",
   "execution_count": 25,
   "metadata": {},
   "outputs": [
    {
     "name": "stdout",
     "output_type": "stream",
     "text": [
      "epoch 1 / 20, step 200 / 600, loss = 0.2653, acc = 96.0\n",
      "epoch 1 / 20, step 400 / 600, loss = 0.0693, acc = 99.0\n",
      "epoch 1 / 20, step 600 / 600, loss = 0.1919, acc = 93.0\n",
      "epoch 2 / 20, step 200 / 600, loss = 0.0646, acc = 98.0\n",
      "epoch 2 / 20, step 400 / 600, loss = 0.1045, acc = 97.0\n",
      "epoch 2 / 20, step 600 / 600, loss = 0.0739, acc = 99.0\n",
      "epoch 3 / 20, step 200 / 600, loss = 0.0426, acc = 99.0\n",
      "epoch 3 / 20, step 400 / 600, loss = 0.0162, acc = 100.0\n",
      "epoch 3 / 20, step 600 / 600, loss = 0.0626, acc = 98.0\n",
      "epoch 4 / 20, step 200 / 600, loss = 0.0306, acc = 98.0\n",
      "epoch 4 / 20, step 400 / 600, loss = 0.1033, acc = 97.0\n",
      "epoch 4 / 20, step 600 / 600, loss = 0.0190, acc = 100.0\n",
      "epoch 5 / 20, step 200 / 600, loss = 0.0315, acc = 99.0\n",
      "epoch 5 / 20, step 400 / 600, loss = 0.0069, acc = 100.0\n",
      "epoch 5 / 20, step 600 / 600, loss = 0.0196, acc = 99.0\n",
      "epoch 6 / 20, step 200 / 600, loss = 0.1248, acc = 96.0\n",
      "epoch 6 / 20, step 400 / 600, loss = 0.0788, acc = 97.0\n",
      "epoch 6 / 20, step 600 / 600, loss = 0.0108, acc = 100.0\n",
      "epoch 7 / 20, step 200 / 600, loss = 0.0122, acc = 99.0\n",
      "epoch 7 / 20, step 400 / 600, loss = 0.0195, acc = 100.0\n",
      "epoch 7 / 20, step 600 / 600, loss = 0.0132, acc = 99.0\n",
      "epoch 8 / 20, step 200 / 600, loss = 0.0068, acc = 100.0\n",
      "epoch 8 / 20, step 400 / 600, loss = 0.0106, acc = 100.0\n",
      "epoch 8 / 20, step 600 / 600, loss = 0.0226, acc = 99.0\n",
      "epoch 9 / 20, step 200 / 600, loss = 0.0021, acc = 100.0\n",
      "epoch 9 / 20, step 400 / 600, loss = 0.0274, acc = 99.0\n",
      "epoch 9 / 20, step 600 / 600, loss = 0.0073, acc = 100.0\n",
      "epoch 10 / 20, step 200 / 600, loss = 0.0091, acc = 100.0\n",
      "epoch 10 / 20, step 400 / 600, loss = 0.0205, acc = 99.0\n",
      "epoch 10 / 20, step 600 / 600, loss = 0.0011, acc = 100.0\n",
      "epoch 11 / 20, step 200 / 600, loss = 0.0083, acc = 100.0\n",
      "epoch 11 / 20, step 400 / 600, loss = 0.0050, acc = 100.0\n",
      "epoch 11 / 20, step 600 / 600, loss = 0.0127, acc = 99.0\n",
      "epoch 12 / 20, step 200 / 600, loss = 0.0115, acc = 100.0\n",
      "epoch 12 / 20, step 400 / 600, loss = 0.0007, acc = 100.0\n",
      "epoch 12 / 20, step 600 / 600, loss = 0.0260, acc = 99.0\n",
      "epoch 13 / 20, step 200 / 600, loss = 0.0442, acc = 98.0\n",
      "epoch 13 / 20, step 400 / 600, loss = 0.0003, acc = 100.0\n",
      "epoch 13 / 20, step 600 / 600, loss = 0.0051, acc = 100.0\n",
      "epoch 14 / 20, step 200 / 600, loss = 0.0031, acc = 100.0\n",
      "epoch 14 / 20, step 400 / 600, loss = 0.0175, acc = 99.0\n",
      "epoch 14 / 20, step 600 / 600, loss = 0.0043, acc = 100.0\n",
      "epoch 15 / 20, step 200 / 600, loss = 0.0017, acc = 100.0\n",
      "epoch 15 / 20, step 400 / 600, loss = 0.0154, acc = 99.0\n",
      "epoch 15 / 20, step 600 / 600, loss = 0.0044, acc = 100.0\n",
      "epoch 16 / 20, step 200 / 600, loss = 0.0185, acc = 99.0\n",
      "epoch 16 / 20, step 400 / 600, loss = 0.0030, acc = 100.0\n",
      "epoch 16 / 20, step 600 / 600, loss = 0.0026, acc = 100.0\n",
      "epoch 17 / 20, step 200 / 600, loss = 0.0003, acc = 100.0\n",
      "epoch 17 / 20, step 400 / 600, loss = 0.0145, acc = 99.0\n",
      "epoch 17 / 20, step 600 / 600, loss = 0.0580, acc = 98.0\n",
      "epoch 18 / 20, step 200 / 600, loss = 0.0005, acc = 100.0\n",
      "epoch 18 / 20, step 400 / 600, loss = 0.0001, acc = 100.0\n",
      "epoch 18 / 20, step 600 / 600, loss = 0.0339, acc = 99.0\n",
      "epoch 19 / 20, step 200 / 600, loss = 0.0020, acc = 100.0\n",
      "epoch 19 / 20, step 400 / 600, loss = 0.0148, acc = 99.0\n",
      "epoch 19 / 20, step 600 / 600, loss = 0.0003, acc = 100.0\n",
      "epoch 20 / 20, step 200 / 600, loss = 0.0344, acc = 99.0\n",
      "epoch 20 / 20, step 400 / 600, loss = 0.0998, acc = 99.0\n",
      "epoch 20 / 20, step 600 / 600, loss = 0.0418, acc = 98.0\n"
     ]
    }
   ],
   "source": [
    "num_steps_per_epoch = len(train_loader)\n",
    "\n",
    "\n",
    "\n",
    "\n",
    "for epoch in range(num_epochs) : #looping over epochs\n",
    "    running_loss = 0 #\n",
    "    running_correct_preds = 0 #\n",
    "\n",
    "    for i,(inputs,labels) in enumerate(train_loader): #looping over batches\n",
    "\n",
    "        \n",
    "        #Flatten the images\n",
    "\n",
    "        #inputs have shape 100,1,28,28, we need to change this to 100,784 \n",
    "        inputs = inputs.view(-1,28*28).to(device) #copy the to gpu, as we do training on the gpu \n",
    "        labels = labels.to(device)\n",
    "\n",
    "        #forward pass\n",
    "        y_preds = model(inputs)\n",
    "        # print(y_preds.shape), should be n_samples x n_classes\n",
    "        loss = loss_func(y_preds,labels)\n",
    "\n",
    "        #backward pass\n",
    "        optimiser.zero_grad()\n",
    "        loss.backward()\n",
    "\n",
    "        #weight updation\n",
    "        optimiser.step()\n",
    "\n",
    "        running_loss += loss.item()\n",
    "        _,preds = torch.max(y_preds,1) #returns values and index, index is the class label\n",
    "        current_step_correct_preds = torch.eq(labels,preds).sum().item()\n",
    "        running_correct_preds += current_step_correct_preds\n",
    "\n",
    "        if (i+1)%200 == 0:\n",
    "            print(f\"epoch {epoch+1} / {num_epochs}, step {i+1} / {num_steps_per_epoch}, loss = {loss.item():.4f}, acc = {100.0*current_step_correct_preds/inputs.shape[0]}\")\n",
    "\n",
    "    \n",
    "    epoch_loss = running_loss/num_steps_per_epoch\n",
    "    epoch_acc = running_correct_preds/len(train_dst)\n",
    "\n",
    "    writer.add_scalar('training loss',epoch_loss,global_step=epoch)\n",
    "    writer.add_scalar('accuracy',epoch_acc,global_step=epoch)\n",
    "          \n",
    "\n",
    "            \n",
    "\n",
    "        \n",
    "        "
   ]
  },
  {
   "cell_type": "markdown",
   "metadata": {},
   "source": [
    "#### Model Evaluation"
   ]
  },
  {
   "cell_type": "markdown",
   "metadata": {},
   "source": [
    "##### Test Accuracy"
   ]
  },
  {
   "cell_type": "code",
   "execution_count": 26,
   "metadata": {},
   "outputs": [
    {
     "name": "stdout",
     "output_type": "stream",
     "text": [
      "Test accuracy of the model = 98.37%\n"
     ]
    }
   ],
   "source": [
    "with torch.no_grad():\n",
    "    correct_pred = 0\n",
    "    n_samples = 0\n",
    "    for i,(inputs,labels) in enumerate(test_loader):\n",
    "        inputs = inputs.view(-1,28*28).to(device) #copy to gpu\n",
    "        labels = labels.to(device)\n",
    "\n",
    "        outputs = model(inputs)\n",
    "\n",
    "        _,preds = torch.max(outputs,1) #returns value snad index, inndex is the class label\n",
    "\n",
    "        n_samples += inputs.shape[0]\n",
    "        correct_pred += torch.eq(labels,preds).sum().item()\n",
    "        \n",
    "    accuracy = (100.0*correct_pred)/n_samples\n",
    "    print(f\"Test accuracy of the model = {accuracy:.2f}%\")"
   ]
  },
  {
   "cell_type": "code",
   "execution_count": 27,
   "metadata": {},
   "outputs": [
    {
     "name": "stdout",
     "output_type": "stream",
     "text": [
      "Train accuracy of the model = 99.84%\n"
     ]
    }
   ],
   "source": [
    "with torch.no_grad():\n",
    "    correct_pred = 0\n",
    "    n_samples = 0\n",
    "    for i,(inputs,labels) in enumerate(train_loader):\n",
    "        inputs = inputs.view(-1,28*28).to(device) #copy to gpu\n",
    "        labels = labels.to(device)\n",
    "\n",
    "        outputs = model(inputs)\n",
    "\n",
    "        _,preds = torch.max(outputs,1) #returns value snad index, inndex is the class label\n",
    "\n",
    "        n_samples += inputs.shape[0]\n",
    "        correct_pred += torch.eq(labels,preds).sum().item()\n",
    "        \n",
    "    accuracy = (100.0*correct_pred)/n_samples\n",
    "    print(f\"Train accuracy of the model = {accuracy:.2f}%\")"
   ]
  }
 ],
 "metadata": {
  "kernelspec": {
   "display_name": "Python 3.8.13",
   "language": "python",
   "name": "python3"
  },
  "language_info": {
   "codemirror_mode": {
    "name": "ipython",
    "version": 3
   },
   "file_extension": ".py",
   "mimetype": "text/x-python",
   "name": "python",
   "nbconvert_exporter": "python",
   "pygments_lexer": "ipython3",
   "version": "3.8.13"
  },
  "orig_nbformat": 4,
  "vscode": {
   "interpreter": {
    "hash": "83bec4cd18966703d39e3fd8209371b7574445e5ac2dfe27a80cb33e9b531167"
   }
  }
 },
 "nbformat": 4,
 "nbformat_minor": 2
}
