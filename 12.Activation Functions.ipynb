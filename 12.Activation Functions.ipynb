{
 "cells": [
  {
   "cell_type": "code",
   "execution_count": 1,
   "metadata": {},
   "outputs": [],
   "source": [
    "import torch \n",
    "import torch.nn as nn\n",
    "import numpy as np\n",
    "import torch.nn.functional as F"
   ]
  },
  {
   "cell_type": "code",
   "execution_count": null,
   "metadata": {},
   "outputs": [],
   "source": [
    "class NeuralNetBC(nn.Module): #Neural network for binary classification\n",
    "    def __init__(self,n_features_in,hidden1,hidden2):\n",
    "        super(NeuralNetBC,self).__init__()\n",
    "        self.lin1 = nn.Linear(n_features_in,hidden1)\n",
    "        self.relu = nn.ReLU()\n",
    "        '''\n",
    "        nn.Sigmoid()\n",
    "        nn.Tanh()\n",
    "        nn.Softmax()\n",
    "        nn.LeakyReLU()\n",
    "        '''\n",
    "        self.lin2 = nn.Linear(hidden1,hidden2)\n",
    "        self.lin3 = nn.Linear(hidden2,1)\n",
    "        self.sigmoid = nn.Sigmoid()\n",
    "\n",
    "    def forward(self,x):\n",
    "        out = self.lin1(x)\n",
    "        out = self.relu(out)\n",
    "        out = self.lin2(out)\n",
    "        out = self.relu(out)\n",
    "        out = self.lin3(out)\n",
    "        out = self.sigmoid(out)\n",
    "\n",
    "    def forward(self,x):\n",
    "        out = torch.relu(self.lin1(x))\n",
    "        out = torch.relu(self.lin2(out))\n",
    "        out = torch.sigmoid(self.lin3(out))\n",
    "        \n",
    "        '''\n",
    "        torch.tanh()\n",
    "        torch.softmax()\n",
    "\n",
    "        F.sigmoid()\n",
    "        F.relu()\n",
    "        F.tanh()\n",
    "        '''\n"
   ]
  }
 ],
 "metadata": {
  "kernelspec": {
   "display_name": "Python 3.8.13",
   "language": "python",
   "name": "python3"
  },
  "language_info": {
   "codemirror_mode": {
    "name": "ipython",
    "version": 3
   },
   "file_extension": ".py",
   "mimetype": "text/x-python",
   "name": "python",
   "nbconvert_exporter": "python",
   "pygments_lexer": "ipython3",
   "version": "3.8.13"
  },
  "orig_nbformat": 4,
  "vscode": {
   "interpreter": {
    "hash": "83bec4cd18966703d39e3fd8209371b7574445e5ac2dfe27a80cb33e9b531167"
   }
  }
 },
 "nbformat": 4,
 "nbformat_minor": 2
}
