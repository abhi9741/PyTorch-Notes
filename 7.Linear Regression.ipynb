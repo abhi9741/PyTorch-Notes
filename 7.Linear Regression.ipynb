{
 "cells": [
  {
   "cell_type": "code",
   "execution_count": null,
   "metadata": {},
   "outputs": [],
   "source": [
    "# Pytorch pipeline\n",
    "# 1. Design model (input dimensions, output dimensions, forward pass) \n",
    "# 2. choose loss and optimiser, initialise them\n",
    "# 3. training loop :\n",
    "#     forward pass\n",
    "#     backward pass, gradient calculation, \n",
    "#     update weights, empty gradients"
   ]
  },
  {
   "cell_type": "code",
   "execution_count": 1,
   "metadata": {},
   "outputs": [],
   "source": [
    "import torch\n",
    "import torch.nn as nn #neural network module\n",
    "import numpy as np\n",
    "from sklearn import datasets \n",
    "from torch.optim import SGD\n",
    "import matplotlib.pyplot as plt\n"
   ]
  },
  {
   "cell_type": "code",
   "execution_count": 15,
   "metadata": {},
   "outputs": [],
   "source": [
    "# Step 0 - preparing data\n",
    "X_numpy, Y_numpy = datasets.make_regression(n_samples=200,n_features=1,noise=20,random_state=47)\n",
    "input = torch.tensor(X_numpy,requires_grad=True,dtype=torch.float32)\n",
    "output = torch.tensor(Y_numpy,requires_grad=True,dtype=torch.float32)\n",
    "\n",
    "#weight are in floats, hence we need to convert data into floats\n",
    "\n",
    "#different implementation\n",
    "# input = torch.from_numpy(X_numpy.astype(np.float32))\n",
    "# input.requires_grad_(True)\n",
    "\n",
    "# output = torch.from_numpy(Y_numpy.astype(np.float32))\n",
    "# output.requires_grad_(True)\n",
    "\n",
    "#converting outputs into a column matrix/vector\n",
    "output = output.view(-1,1)\n",
    "\n",
    "n_samples, n_features = input.shape\n",
    "n_samples, n_features = input.size()\n"
   ]
  },
  {
   "cell_type": "code",
   "execution_count": 19,
   "metadata": {},
   "outputs": [],
   "source": [
    "#Step 1 - Designing the model\n",
    "\n",
    "model = nn.Linear(n_features,1)"
   ]
  },
  {
   "cell_type": "code",
   "execution_count": 32,
   "metadata": {},
   "outputs": [],
   "source": [
    "#Step 2 - Loss & Optimiser\n",
    "learning_rate = 0.01\n",
    "loss_func = nn.MSELoss()\n",
    "optimiser =SGD(model.parameters(),lr=learning_rate)"
   ]
  },
  {
   "cell_type": "code",
   "execution_count": 33,
   "metadata": {},
   "outputs": [
    {
     "name": "stdout",
     "output_type": "stream",
     "text": [
      "Loss in epoch 1 is 335.0197\n",
      "Loss in epoch 11 is 334.1602\n",
      "Loss in epoch 21 is 333.6003\n",
      "Loss in epoch 31 is 333.2355\n",
      "Loss in epoch 41 is 332.9979\n",
      "Loss in epoch 51 is 332.8431\n",
      "Loss in epoch 61 is 332.7423\n",
      "Loss in epoch 71 is 332.6766\n",
      "Loss in epoch 81 is 332.6338\n",
      "Loss in epoch 91 is 332.6059\n"
     ]
    },
    {
     "data": {
      "image/png": "[encoded data removed]",
      "text/plain": [
       "<Figure size 432x288 with 1 Axes>"
      ]
     },
     "metadata": {
      "needs_background": "light"
     },
     "output_type": "display_data"
    }
   ],
   "source": [
    "#Step 3 - Training loop\n",
    "epochs = 100\n",
    "for epoch in range(epochs):\n",
    "    #forward pass\n",
    "    y_est = model(input)\n",
    "    loss = loss_func(output,y_est)\n",
    "    #backward pass\n",
    "    loss.backward()\n",
    "    #weight updatation\n",
    "    with torch.no_grad():\n",
    "        optimiser.step()\n",
    "    optimiser.zero_grad()\n",
    "\n",
    "    if epoch%10 == 0:\n",
    "        print(f\"Loss in epoch {epoch+1} is {loss.item():.4f}\")\n",
    "\n",
    "#plots\n",
    "predicted_outputs = model(input).detach().numpy() #we dont want it to be tracked by computation graph\n",
    "plt.plot(X_numpy,Y_numpy,'ro')\n",
    "plt.plot(X_numpy,predicted_outputs)\n",
    "plt.show()"
   ]
  },
  {
   "cell_type": "code",
   "execution_count": null,
   "metadata": {},
   "outputs": [],
   "source": []
  }
 ],
 "metadata": {
  "kernelspec": {
   "display_name": "Python 3.8.13",
   "language": "python",
   "name": "python3"
  },
  "language_info": {
   "codemirror_mode": {
    "name": "ipython",
    "version": 3
   },
   "file_extension": ".py",
   "mimetype": "text/x-python",
   "name": "python",
   "nbconvert_exporter": "python",
   "pygments_lexer": "ipython3",
   "version": "3.8.13"
  },
  "orig_nbformat": 4,
  "vscode": {
   "interpreter": {
    "hash": "83bec4cd18966703d39e3fd8209371b7574445e5ac2dfe27a80cb33e9b531167"
   }
  }
 },
 "nbformat": 4,
 "nbformat_minor": 2
}
