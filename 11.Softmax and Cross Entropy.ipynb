{
 "cells": [
  {
   "cell_type": "code",
   "execution_count": 1,
   "metadata": {},
   "outputs": [],
   "source": [
    "import torch \n",
    "import torch.nn as nn\n",
    "import numpy as np"
   ]
  },
  {
   "cell_type": "code",
   "execution_count": 16,
   "metadata": {},
   "outputs": [],
   "source": [
    "def softmax(x):\n",
    "    return np.exp(x)/np.exp(x).sum(axis=0)"
   ]
  },
  {
   "cell_type": "code",
   "execution_count": 18,
   "metadata": {},
   "outputs": [
    {
     "name": "stdout",
     "output_type": "stream",
     "text": [
      "x: [1 2 3 4]\n",
      "softmax output: [0.0320586  0.08714432 0.23688282 0.64391426]\n",
      "sum of softmax_out: 1.0\n"
     ]
    }
   ],
   "source": [
    "x = np.array([1,2,3,4])\n",
    "softmax_out = softmax(x)\n",
    "print(\"x:\",x)\n",
    "print(\"softmax output:\",softmax_out)\n",
    "print(\"sum of softmax_out:\",softmax_out.sum())"
   ]
  },
  {
   "cell_type": "code",
   "execution_count": 21,
   "metadata": {},
   "outputs": [
    {
     "name": "stdout",
     "output_type": "stream",
     "text": [
      "x: tensor([1., 2., 3., 4.])\n",
      "softmax output: tensor([0.0321, 0.0871, 0.2369, 0.6439])\n",
      "sum of softmax_out: tensor(1.)\n"
     ]
    }
   ],
   "source": [
    "#implementing the same in pytorch\n",
    "\n",
    "x = torch.tensor([1,2,3,4],dtype=torch.float32)\n",
    "out = torch.softmax(x,dim=0)\n",
    "print(\"x:\",x)\n",
    "print(\"softmax output:\",out)\n",
    "print(\"sum of softmax_out:\",out.sum())"
   ]
  },
  {
   "cell_type": "code",
   "execution_count": 26,
   "metadata": {},
   "outputs": [],
   "source": [
    "y_actual = np.array([1,0,0])\n",
    "y_pred1 = np.array([0.7,0.2,0.1]) #good prediction\n",
    "y_pred2 = np.array([0.1,0.3,0.6]) #bad prediction"
   ]
  },
  {
   "cell_type": "code",
   "execution_count": 27,
   "metadata": {},
   "outputs": [],
   "source": [
    "def crossEntropy(actual,predicted):\n",
    "    loss = -1*np.sum(actual*np.log(predicted))\n",
    "    return loss/predicted.shape[0]\n"
   ]
  },
  {
   "cell_type": "code",
   "execution_count": 28,
   "metadata": {},
   "outputs": [
    {
     "data": {
      "text/plain": [
       "0.11889164797957748"
      ]
     },
     "execution_count": 28,
     "metadata": {},
     "output_type": "execute_result"
    }
   ],
   "source": [
    "crossEntropy(y_actual,y_pred1)"
   ]
  },
  {
   "cell_type": "code",
   "execution_count": 29,
   "metadata": {},
   "outputs": [
    {
     "data": {
      "text/plain": [
       "0.7675283643313485"
      ]
     },
     "execution_count": 29,
     "metadata": {},
     "output_type": "execute_result"
    }
   ],
   "source": [
    "crossEntropy(y_actual,y_pred2) #how and why exactly cross entropy works"
   ]
  },
  {
   "cell_type": "code",
   "execution_count": 30,
   "metadata": {},
   "outputs": [],
   "source": [
    "loss_func = nn.CrossEntropyLoss() #when using cross entropy loss, we should not implement softmax function in last layer, CrossEntropyLoss automatically implements softmax\n",
    "#also, ylabels (actual) should not be one hot encoded\n",
    "#y_preds are raw scores (not softmax outputs)"
   ]
  },
  {
   "cell_type": "code",
   "execution_count": 36,
   "metadata": {},
   "outputs": [],
   "source": [
    "y_actual = torch.tensor([0]) \n",
    "ypred1 = torch.tensor([[2.0, 1.0, 0.1]]) # n_samples * n_classes (here 1x3)\n",
    "ypred2 = torch.tensor([[0.5, 2.0, 0.2]]) # n_samples * n_classes (here 1x3)"
   ]
  },
  {
   "cell_type": "code",
   "execution_count": 37,
   "metadata": {},
   "outputs": [
    {
     "data": {
      "text/plain": [
       "tensor(0.4170)"
      ]
     },
     "execution_count": 37,
     "metadata": {},
     "output_type": "execute_result"
    }
   ],
   "source": [
    "loss_func(ypred1,y_actual)"
   ]
  },
  {
   "cell_type": "code",
   "execution_count": 38,
   "metadata": {},
   "outputs": [
    {
     "data": {
      "text/plain": [
       "tensor(1.8282)"
      ]
     },
     "execution_count": 38,
     "metadata": {},
     "output_type": "execute_result"
    }
   ],
   "source": [
    "loss_func(ypred2,y_actual)"
   ]
  },
  {
   "cell_type": "code",
   "execution_count": 39,
   "metadata": {},
   "outputs": [],
   "source": [
    "_,pred1 = torch.max(ypred1,1)\n",
    "_,pred2 = torch.max(ypred2,1)"
   ]
  },
  {
   "cell_type": "code",
   "execution_count": 40,
   "metadata": {},
   "outputs": [
    {
     "data": {
      "text/plain": [
       "tensor([0])"
      ]
     },
     "execution_count": 40,
     "metadata": {},
     "output_type": "execute_result"
    }
   ],
   "source": [
    "pred1"
   ]
  },
  {
   "cell_type": "code",
   "execution_count": 41,
   "metadata": {},
   "outputs": [
    {
     "data": {
      "text/plain": [
       "tensor([1])"
      ]
     },
     "execution_count": 41,
     "metadata": {},
     "output_type": "execute_result"
    }
   ],
   "source": [
    "pred2"
   ]
  },
  {
   "cell_type": "code",
   "execution_count": 47,
   "metadata": {},
   "outputs": [],
   "source": [
    "#3 samples , 3 possible classes\n",
    "# y pred will be of size, 3x3\n",
    "\n",
    "y_actual = torch.tensor([2,0,1])\n",
    "y_pred1 = torch.tensor([[0.1,0.2,0.9],[2,0.1,0.5],[0.6,3,0.1]]) # n_samples x n_classes"
   ]
  },
  {
   "cell_type": "code",
   "execution_count": 49,
   "metadata": {},
   "outputs": [
    {
     "data": {
      "text/plain": [
       "tensor(0.3729)"
      ]
     },
     "execution_count": 49,
     "metadata": {},
     "output_type": "execute_result"
    }
   ],
   "source": [
    "loss_func(y_pred1,y_actual)"
   ]
  },
  {
   "cell_type": "code",
   "execution_count": 50,
   "metadata": {},
   "outputs": [
    {
     "data": {
      "text/plain": [
       "tensor([2, 0, 1])"
      ]
     },
     "execution_count": 50,
     "metadata": {},
     "output_type": "execute_result"
    }
   ],
   "source": [
    "_,pred1 = torch.max(y_pred1,1)\n",
    "pred1"
   ]
  },
  {
   "cell_type": "code",
   "execution_count": null,
   "metadata": {},
   "outputs": [],
   "source": []
  }
 ],
 "metadata": {
  "kernelspec": {
   "display_name": "Python 3.8.13",
   "language": "python",
   "name": "python3"
  },
  "language_info": {
   "codemirror_mode": {
    "name": "ipython",
    "version": 3
   },
   "file_extension": ".py",
   "mimetype": "text/x-python",
   "name": "python",
   "nbconvert_exporter": "python",
   "pygments_lexer": "ipython3",
   "version": "3.8.13"
  },
  "orig_nbformat": 4,
  "vscode": {
   "interpreter": {
    "hash": "83bec4cd18966703d39e3fd8209371b7574445e5ac2dfe27a80cb33e9b531167"
   }
  }
 },
 "nbformat": 4,
 "nbformat_minor": 2
}
