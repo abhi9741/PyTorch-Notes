{
 "cells": [
  {
   "cell_type": "code",
   "execution_count": 26,
   "metadata": {},
   "outputs": [],
   "source": [
    "import torch \n",
    "import torch.nn as nn\n",
    "import torch.functional as F \n",
    "from torch.utils.data import Dataset, DataLoader\n",
    "import torchvision\n",
    "import torchvision.transforms as transforms\n",
    "\n",
    "import numpy as np\n",
    "import matplotlib.pyplot as plt "
   ]
  },
  {
   "cell_type": "code",
   "execution_count": 27,
   "metadata": {},
   "outputs": [
    {
     "name": "stdout",
     "output_type": "stream",
     "text": [
      "Device : cuda\n"
     ]
    }
   ],
   "source": [
    "device = torch.device(\"cuda\" if torch.cuda.is_available() else 'cpu')\n",
    "print(f\"Device : {device}\")"
   ]
  },
  {
   "cell_type": "code",
   "execution_count": 28,
   "metadata": {},
   "outputs": [],
   "source": [
    "#Hyperparameters\n",
    "\n",
    "num_epochs = 4\n",
    "image_size = [32,32]\n",
    "input_size = [3,32,32]\n",
    "input_channels = input_size[0]\n",
    "num_of_classes = 10\n",
    "learning_rate = 0.001\n",
    "batch_size = 8"
   ]
  },
  {
   "cell_type": "code",
   "execution_count": 29,
   "metadata": {},
   "outputs": [
    {
     "name": "stdout",
     "output_type": "stream",
     "text": [
      "Files already downloaded and verified\n",
      "Files already downloaded and verified\n"
     ]
    }
   ],
   "source": [
    "#Transforms\n",
    "\n",
    "data_transforms = transforms.Compose([transforms.ToTensor(),transforms.Normalize((0.5,0.5,0.5),(0.5,0.5,0.5))])\n",
    "\n",
    "train_dataset = torchvision.datasets.CIFAR10(root='./data',train=True,download=True,transform=data_transforms)\n",
    "test_dataset = torchvision.datasets.CIFAR10(root='./data',train=False,download=True,transform=data_transforms)\n",
    "\n",
    "train_loader = DataLoader(train_dataset,batch_size=batch_size,shuffle=True)\n",
    "test_loader =  DataLoader(test_dataset,batch_size=batch_size,shuffle=False)\n"
   ]
  },
  {
   "cell_type": "code",
   "execution_count": 30,
   "metadata": {},
   "outputs": [
    {
     "name": "stdout",
     "output_type": "stream",
     "text": [
      "torch.Size([8, 3, 32, 32])\n",
      "torch.Size([8])\n"
     ]
    }
   ],
   "source": [
    "dataiter = iter(train_loader)\n",
    "data_batch = dataiter.next()\n",
    "\n",
    "inputs,labels = data_batch\n",
    "print(inputs.shape)\n",
    "print(labels.shape)\n",
    "\n"
   ]
  },
  {
   "cell_type": "code",
   "execution_count": 31,
   "metadata": {},
   "outputs": [],
   "source": [
    "classes = ('plane','car','bird',\"cat\",\"deer\",\"dog\",\"frog\",\"horse\",\"ship\",\"truck\")"
   ]
  },
  {
   "cell_type": "code",
   "execution_count": 47,
   "metadata": {},
   "outputs": [],
   "source": [
    "class ConvNet(nn.Module):\n",
    "    def __init__(self):\n",
    "        super(ConvNet,self).__init__()\n",
    "        self.conv2d1 = nn.Conv2d(in_channels=3,out_channels=6,kernel_size=5)\n",
    "        self.pool = nn.MaxPool2d(kernel_size=2,stride=2)\n",
    "        self.relu = nn.ReLU()\n",
    "        self.conv2d2 = nn.Conv2d(in_channels=6,out_channels=16,kernel_size=5)\n",
    "        self.fc1 = nn.Linear(in_features=16*5*5,out_features=120)\n",
    "        self.fc2 = nn.Linear(in_features=120,out_features=64)\n",
    "        self.fc3 = nn.Linear(in_features=64,out_features=num_of_classes)\n",
    "\n",
    "    def forward(self,inputs):\n",
    "        out = self.conv2d1(inputs) #convolution\n",
    "        out = self.relu(out) #activaltion\n",
    "        out = self.pool(out) #pooling\n",
    "        out = self.conv2d2(out) #convolution\n",
    "        out = self.relu(out) #activaltion\n",
    "        out = self.pool(out) #pooling\n",
    "        out = torch.flatten(out,start_dim=1)\n",
    "        out = self.fc1(out)\n",
    "        out = self.relu(out)\n",
    "        out = self.fc2(out)\n",
    "        out = self.relu(out)\n",
    "        out = self.fc3(out)\n",
    "        # out = nn.Softmax(out) # we do not do this as we are using cross entropy loss function, which does softmax\n",
    "        return out"
   ]
  },
  {
   "cell_type": "code",
   "execution_count": 48,
   "metadata": {},
   "outputs": [],
   "source": [
    "model = ConvNet().to(device)\n",
    "\n",
    "loss_func = nn.CrossEntropyLoss()\n",
    "optimiser = torch.optim.SGD(model.parameters(),lr=learning_rate)"
   ]
  },
  {
   "cell_type": "code",
   "execution_count": 50,
   "metadata": {},
   "outputs": [
    {
     "name": "stdout",
     "output_type": "stream",
     "text": [
      "Epoch 1 / 4, Step 1000/6250, Loss is 2.293445348739624\n",
      "Epoch 1 / 4, Step 2000/6250, Loss is 2.287079334259033\n",
      "Epoch 1 / 4, Step 3000/6250, Loss is 2.2919352054595947\n",
      "Epoch 1 / 4, Step 4000/6250, Loss is 2.292660713195801\n",
      "Epoch 1 / 4, Step 5000/6250, Loss is 2.2993009090423584\n",
      "Epoch 1 / 4, Step 6000/6250, Loss is 2.292539119720459\n",
      "Epoch 2 / 4, Step 1000/6250, Loss is 2.2324464321136475\n",
      "Epoch 2 / 4, Step 2000/6250, Loss is 2.2086026668548584\n",
      "Epoch 2 / 4, Step 3000/6250, Loss is 2.087015390396118\n",
      "Epoch 2 / 4, Step 4000/6250, Loss is 2.3412258625030518\n",
      "Epoch 2 / 4, Step 5000/6250, Loss is 2.1050918102264404\n",
      "Epoch 2 / 4, Step 6000/6250, Loss is 2.1587648391723633\n",
      "Epoch 3 / 4, Step 1000/6250, Loss is 2.439683437347412\n",
      "Epoch 3 / 4, Step 2000/6250, Loss is 2.4590976238250732\n",
      "Epoch 3 / 4, Step 3000/6250, Loss is 2.245692729949951\n",
      "Epoch 3 / 4, Step 4000/6250, Loss is 1.9949367046356201\n",
      "Epoch 3 / 4, Step 5000/6250, Loss is 2.229139566421509\n",
      "Epoch 3 / 4, Step 6000/6250, Loss is 1.8787338733673096\n",
      "Epoch 4 / 4, Step 1000/6250, Loss is 1.864654779434204\n",
      "Epoch 4 / 4, Step 2000/6250, Loss is 1.6389274597167969\n",
      "Epoch 4 / 4, Step 3000/6250, Loss is 1.9065327644348145\n",
      "Epoch 4 / 4, Step 4000/6250, Loss is 2.0298542976379395\n",
      "Epoch 4 / 4, Step 5000/6250, Loss is 1.8827064037322998\n",
      "Epoch 4 / 4, Step 6000/6250, Loss is 1.6121962070465088\n"
     ]
    }
   ],
   "source": [
    "steps_per_epoch = len(train_loader)\n",
    "\n",
    "for epoch in range(num_epochs):\n",
    "    for i,(inputs,labels) in enumerate(train_loader):\n",
    "        #print(inputs.shape) # 8 3 32 32\n",
    "        #print(labels.shape) # 8\n",
    "\n",
    "        inputs = inputs.to(device)\n",
    "        labels = labels.to(device)\n",
    "\n",
    "        #forward pass\n",
    "        y_pred = model(inputs)\n",
    "        loss = loss_func(y_pred,labels)\n",
    "\n",
    "        #backward pass\n",
    "        optimiser.zero_grad()\n",
    "        loss.backward()\n",
    "\n",
    "        #weight updation\n",
    "        optimiser.step()\n",
    "\n",
    "        if (i+1)%1000 == 0:\n",
    "            print(f\"Epoch {epoch+1} / {num_epochs}, Step {i+1}/{steps_per_epoch}, Loss is {loss}\")\n"
   ]
  },
  {
   "cell_type": "code",
   "execution_count": 51,
   "metadata": {},
   "outputs": [
    {
     "name": "stdout",
     "output_type": "stream",
     "text": [
      "Accuracy of the network: 34.61 %\n",
      "Accuracy of plane: 36.2 %\n",
      "Accuracy of car: 47.0 %\n",
      "Accuracy of bird: 8.7 %\n",
      "Accuracy of cat: 2.9 %\n",
      "Accuracy of deer: 12.3 %\n",
      "Accuracy of dog: 45.8 %\n",
      "Accuracy of frog: 59.1 %\n",
      "Accuracy of horse: 39.8 %\n",
      "Accuracy of ship: 55.0 %\n",
      "Accuracy of truck: 39.3 %\n"
     ]
    }
   ],
   "source": [
    "# Replace this section with compact skearn implementation, confusion matrices\n",
    "\n",
    "with torch.no_grad():\n",
    "    n_correct = 0\n",
    "    n_samples = 0\n",
    "    n_class_correct = [0 for i in range(10)]\n",
    "    n_class_samples = [0 for i in range(10)]\n",
    "    for images, labels in test_loader:\n",
    "        images = images.to(device)\n",
    "        labels = labels.to(device)\n",
    "        outputs = model(images)\n",
    "        # max returns (value ,index)\n",
    "        _, predicted = torch.max(outputs, 1)\n",
    "        n_samples += labels.size(0)\n",
    "        n_correct += (predicted == labels).sum().item()\n",
    "        \n",
    "        for i in range(batch_size):\n",
    "            label = labels[i]\n",
    "            pred = predicted[i]\n",
    "            if (label == pred):\n",
    "                n_class_correct[label] += 1\n",
    "            n_class_samples[label] += 1\n",
    "\n",
    "    acc = 100.0 * n_correct / n_samples\n",
    "    print(f'Accuracy of the network: {acc} %')\n",
    "\n",
    "    for i in range(10):\n",
    "        acc = 100.0 * n_class_correct[i] / n_class_samples[i]\n",
    "        print(f'Accuracy of {classes[i]}: {acc} %')"
   ]
  },
  {
   "cell_type": "code",
   "execution_count": null,
   "metadata": {},
   "outputs": [],
   "source": []
  }
 ],
 "metadata": {
  "kernelspec": {
   "display_name": "Python 3.8.13",
   "language": "python",
   "name": "python3"
  },
  "language_info": {
   "codemirror_mode": {
    "name": "ipython",
    "version": 3
   },
   "file_extension": ".py",
   "mimetype": "text/x-python",
   "name": "python",
   "nbconvert_exporter": "python",
   "pygments_lexer": "ipython3",
   "version": "3.8.13"
  },
  "orig_nbformat": 4,
  "vscode": {
   "interpreter": {
    "hash": "83bec4cd18966703d39e3fd8209371b7574445e5ac2dfe27a80cb33e9b531167"
   }
  }
 },
 "nbformat": 4,
 "nbformat_minor": 2
}
